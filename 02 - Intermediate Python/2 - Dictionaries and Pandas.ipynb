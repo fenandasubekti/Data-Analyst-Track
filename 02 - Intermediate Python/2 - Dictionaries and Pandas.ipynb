{
 "cells": [
  {
   "cell_type": "markdown",
   "id": "9f9a1cb1",
   "metadata": {},
   "source": [
    "# List"
   ]
  },
  {
   "cell_type": "code",
   "execution_count": 1,
   "id": "5086fba9",
   "metadata": {},
   "outputs": [
    {
     "name": "stdout",
     "output_type": "stream",
     "text": [
      "Jumlah penduduk albania: 2.77 juta\n"
     ]
    }
   ],
   "source": [
    "countries = [\"afghanistan\",\"albania\",\"algeria\"]\n",
    "pop = [30.55,2.77,39.21]\n",
    "\n",
    "index_albania = countries.index(\"albania\")\n",
    "pop_albania = pop[index_albania]\n",
    "\n",
    "print(\"Jumlah penduduk albania:\",pop_albania,\"juta\")"
   ]
  },
  {
   "cell_type": "markdown",
   "id": "7452b062",
   "metadata": {},
   "source": [
    "# Dictionaries"
   ]
  },
  {
   "cell_type": "code",
   "execution_count": 2,
   "id": "46acf1e1",
   "metadata": {},
   "outputs": [
    {
     "name": "stdout",
     "output_type": "stream",
     "text": [
      "Jumlah penduduk algeria 39.21 juta\n"
     ]
    }
   ],
   "source": [
    "world = {\n",
    "    \"afghanistan\":30.55,\n",
    "    \"albania\":2.77,\n",
    "    \"algeria\":39.21\n",
    "}\n",
    "\n",
    "print(\"Jumlah penduduk algeria\",world[\"algeria\"],\"juta\")"
   ]
  },
  {
   "cell_type": "code",
   "execution_count": 3,
   "id": "2f16f068",
   "metadata": {},
   "outputs": [
    {
     "name": "stdout",
     "output_type": "stream",
     "text": [
      "{'afghanistan': 30.55, 'albania': 2.77, 'algeria': 39.21, 'sealand': 2.7e-05}\n"
     ]
    }
   ],
   "source": [
    "# menambahkan atau mengganti values dictionary\n",
    "world[\"sealand\"] = 0.000027\n",
    "\n",
    "print(world)"
   ]
  },
  {
   "cell_type": "code",
   "execution_count": 4,
   "id": "24726852",
   "metadata": {},
   "outputs": [
    {
     "name": "stdout",
     "output_type": "stream",
     "text": [
      "True\n"
     ]
    }
   ],
   "source": [
    "# mengecek apakah ada key \"sealand\" di dictionary\n",
    "print(\"sealand\" in world)"
   ]
  },
  {
   "cell_type": "code",
   "execution_count": 5,
   "id": "6309a235",
   "metadata": {},
   "outputs": [
    {
     "name": "stdout",
     "output_type": "stream",
     "text": [
      "{'afghanistan': 30.55, 'albania': 2.77, 'algeria': 39.21}\n"
     ]
    }
   ],
   "source": [
    "# menghapus data di dictionary\n",
    "del(world[\"sealand\"])\n",
    "\n",
    "print(world)"
   ]
  },
  {
   "cell_type": "code",
   "execution_count": 6,
   "id": "e3bd6d3c",
   "metadata": {},
   "outputs": [
    {
     "name": "stdout",
     "output_type": "stream",
     "text": [
      "dict_keys(['afghanistan', 'albania', 'algeria'])\n"
     ]
    }
   ],
   "source": [
    "# melihat semua key yang ada di dictionary\n",
    "print(world.keys())"
   ]
  },
  {
   "cell_type": "markdown",
   "id": "a155f66b",
   "metadata": {},
   "source": [
    "## Dictionary Bersarang"
   ]
  },
  {
   "cell_type": "code",
   "execution_count": 7,
   "id": "4fde7714",
   "metadata": {},
   "outputs": [
    {
     "name": "stdout",
     "output_type": "stream",
     "text": [
      "Ibu kota france: paris\n"
     ]
    }
   ],
   "source": [
    "europe = { 'spain': { 'capital':'madrid', 'population':46.77 },\n",
    "           'france': { 'capital':'paris', 'population':66.03 },\n",
    "           'germany': { 'capital':'berlin', 'population':80.62 },\n",
    "           'norway': { 'capital':'oslo', 'population':5.084 } }\n",
    "\n",
    "# menambahkan data ke dictionary\n",
    "data = {\"capital\":\"rome\", \"population\":59.83}\n",
    "europe[\"italy\"] = data\n",
    "\n",
    "# mengambil data\n",
    "print(\"Ibu kota france:\",europe[\"france\"][\"capital\"])"
   ]
  },
  {
   "cell_type": "markdown",
   "id": "1b04c1c1",
   "metadata": {},
   "source": [
    "# Pandas\n",
    "\n",
    "- row = observations\n",
    "- column = variable\n",
    "\n",
    "Pada dictionary:\n",
    "- key = column tables\n",
    "- values = data"
   ]
  },
  {
   "cell_type": "markdown",
   "id": "a2d3ff80",
   "metadata": {},
   "source": [
    "## Cara 1:"
   ]
  },
  {
   "cell_type": "code",
   "execution_count": 8,
   "id": "a95a92be",
   "metadata": {},
   "outputs": [
    {
     "name": "stdout",
     "output_type": "stream",
     "text": [
      "         country    capital    area  population\n",
      "BR        Brazil   Brasilia   8.516      200.40\n",
      "RU         Rusia     Moscow  17.100      143.50\n",
      "IN         India  New Delhi   3.286     1252.00\n",
      "CH         China    Beijing   9.597     1357.00\n",
      "SA  South Africa   Pretoria   1.221       52.98\n"
     ]
    }
   ],
   "source": [
    "# kita bisa membuat DataFrame melalui dictionary\n",
    "data = {\n",
    "    \"country\":[\"Brazil\",\"Rusia\",\"India\",\"China\",\"South Africa\"],\n",
    "    \"capital\":[\"Brasilia\",\"Moscow\",\"New Delhi\",\"Beijing\",\"Pretoria\"],\n",
    "    \"area\":[8.516,17.10,3.286,9.597,1.221],\n",
    "    \"population\":[200.4,143.5,1252,1357,52.98]\n",
    "}\n",
    "\n",
    "import pandas as pd\n",
    "brics = pd.DataFrame(data)\n",
    "\n",
    "brics.index = [\"BR\",\"RU\",\"IN\",\"CH\",\"SA\"]\n",
    "\n",
    "print(brics)"
   ]
  },
  {
   "cell_type": "markdown",
   "id": "6eb0838f",
   "metadata": {},
   "source": [
    "## Cara 2:"
   ]
  },
  {
   "cell_type": "code",
   "execution_count": 9,
   "id": "2d044c3e",
   "metadata": {},
   "outputs": [
    {
     "name": "stdout",
     "output_type": "stream",
     "text": [
      "         country    capital    area  population\n",
      "BR        Brazil   Brasilia   8.516      200.40\n",
      "RU        Russia     Moscow  17.100      143.50\n",
      "IN         India  New Delhi   3.286     1252.00\n",
      "CH         China    Beijing   9.597     1357.00\n",
      "SA  South Africa   Pretoria   1.221       52.98\n"
     ]
    }
   ],
   "source": [
    "brics = pd.read_csv(\"datasets/brics.csv\",index_col=0) # inddex_col=0 berfungsi agar kolom pertama menjadi row label\n",
    "\n",
    "print(brics)"
   ]
  },
  {
   "cell_type": "markdown",
   "id": "5d2c6419",
   "metadata": {},
   "source": [
    "## Pandas Series dan Pandas DataFrame"
   ]
  },
  {
   "cell_type": "code",
   "execution_count": 10,
   "id": "50377c12",
   "metadata": {},
   "outputs": [
    {
     "name": "stdout",
     "output_type": "stream",
     "text": [
      "BR          Brazil\n",
      "RU          Russia\n",
      "IN           India\n",
      "CH           China\n",
      "SA    South Africa\n",
      "Name: country, dtype: object\n",
      "\n",
      "\n",
      "<class 'pandas.core.series.Series'>\n"
     ]
    }
   ],
   "source": [
    "# pandas series\n",
    "print(brics[\"country\"])\n",
    "print(\"\\n\")\n",
    "print(type(brics[\"country\"]))"
   ]
  },
  {
   "cell_type": "code",
   "execution_count": 11,
   "id": "c877da71",
   "metadata": {},
   "outputs": [
    {
     "name": "stdout",
     "output_type": "stream",
     "text": [
      "         country\n",
      "BR        Brazil\n",
      "RU        Russia\n",
      "IN         India\n",
      "CH         China\n",
      "SA  South Africa\n",
      "\n",
      "\n",
      "<class 'pandas.core.frame.DataFrame'>\n"
     ]
    }
   ],
   "source": [
    "# pandas DataFrame\n",
    "print(brics[[\"country\"]])\n",
    "print(\"\\n\")\n",
    "print(type(brics[[\"country\"]]))"
   ]
  },
  {
   "cell_type": "markdown",
   "id": "ef81df69",
   "metadata": {},
   "source": [
    "# Slicing\n",
    "Idealnya:\n",
    "- 2D NumPy arrays\n",
    "- my_arrays[rows,columns]"
   ]
  },
  {
   "cell_type": "code",
   "execution_count": 12,
   "id": "4492d5ad",
   "metadata": {},
   "outputs": [
    {
     "name": "stdout",
     "output_type": "stream",
     "text": [
      "         country    capital\n",
      "BR        Brazil   Brasilia\n",
      "RU        Russia     Moscow\n",
      "IN         India  New Delhi\n",
      "CH         China    Beijing\n",
      "SA  South Africa   Pretoria\n"
     ]
    }
   ],
   "source": [
    "# memgambil data pada kolom country dan capital\n",
    "print(brics[[\"country\",\"capital\"]])"
   ]
  },
  {
   "cell_type": "code",
   "execution_count": 13,
   "id": "bdd87692",
   "metadata": {},
   "outputs": [
    {
     "name": "stdout",
     "output_type": "stream",
     "text": [
      "   country    capital    area  population\n",
      "RU  Russia     Moscow  17.100       143.5\n",
      "IN   India  New Delhi   3.286      1252.0\n",
      "CH   China    Beijing   9.597      1357.0\n"
     ]
    }
   ],
   "source": [
    "# mengambil data baris pada index 1 sampai dengan index 3\n",
    "print(brics[1:4])"
   ]
  },
  {
   "cell_type": "markdown",
   "id": "b2d61e76",
   "metadata": {},
   "source": [
    "## Slicing Loc\n",
    "Slicing dengan menggunakan name label"
   ]
  },
  {
   "cell_type": "code",
   "execution_count": 14,
   "id": "08d6c86b",
   "metadata": {},
   "outputs": [
    {
     "name": "stdout",
     "output_type": "stream",
     "text": [
      "country       Russia\n",
      "capital       Moscow\n",
      "area            17.1\n",
      "population     143.5\n",
      "Name: RU, dtype: object\n"
     ]
    }
   ],
   "source": [
    "# pandas series\n",
    "print(brics.loc[\"RU\"])"
   ]
  },
  {
   "cell_type": "code",
   "execution_count": 15,
   "id": "276079a4",
   "metadata": {},
   "outputs": [
    {
     "name": "stdout",
     "output_type": "stream",
     "text": [
      "   country capital  area  population\n",
      "RU  Russia  Moscow  17.1       143.5\n"
     ]
    }
   ],
   "source": [
    "# pandas DataFrame\n",
    "print(brics.loc[[\"RU\"]])"
   ]
  },
  {
   "cell_type": "code",
   "execution_count": 16,
   "id": "330a6c2e",
   "metadata": {},
   "outputs": [
    {
     "name": "stdout",
     "output_type": "stream",
     "text": [
      "   country    capital\n",
      "RU  Russia     Moscow\n",
      "IN   India  New Delhi\n",
      "CH   China    Beijing\n"
     ]
    }
   ],
   "source": [
    "# mengambil baris dan kolom teripilih\n",
    "print(brics.loc[[\"RU\",\"IN\",\"CH\"],[\"country\",\"capital\"]])"
   ]
  },
  {
   "cell_type": "code",
   "execution_count": 17,
   "id": "5c037763",
   "metadata": {},
   "outputs": [
    {
     "name": "stdout",
     "output_type": "stream",
     "text": [
      "         country  population\n",
      "BR        Brazil      200.40\n",
      "RU        Russia      143.50\n",
      "IN         India     1252.00\n",
      "CH         China     1357.00\n",
      "SA  South Africa       52.98\n"
     ]
    }
   ],
   "source": [
    "# mengambil semua baris tetapi dengan kolom terpilih\n",
    "print(brics.loc[:,[\"country\",\"population\"]])"
   ]
  },
  {
   "cell_type": "markdown",
   "id": "e65f08c2",
   "metadata": {},
   "source": [
    "## Slicing Iloc\n",
    "Slicing dengan menggunakan row index"
   ]
  },
  {
   "cell_type": "code",
   "execution_count": 18,
   "id": "8c3b4422",
   "metadata": {},
   "outputs": [
    {
     "name": "stdout",
     "output_type": "stream",
     "text": [
      "   country capital  area  population\n",
      "RU  Russia  Moscow  17.1       143.5\n"
     ]
    }
   ],
   "source": [
    "# pandas DataFrame\n",
    "print(brics.iloc[[1]])"
   ]
  },
  {
   "cell_type": "code",
   "execution_count": 19,
   "id": "f7836653",
   "metadata": {},
   "outputs": [
    {
     "name": "stdout",
     "output_type": "stream",
     "text": [
      "         country   capital\n",
      "RU        Russia    Moscow\n",
      "CH         China   Beijing\n",
      "SA  South Africa  Pretoria\n"
     ]
    }
   ],
   "source": [
    "# mengambil baris dan kolom terpilih\n",
    "print(brics.iloc[[1,3,4],[0,1]])"
   ]
  },
  {
   "cell_type": "code",
   "execution_count": 20,
   "id": "7a2f8034",
   "metadata": {},
   "outputs": [
    {
     "name": "stdout",
     "output_type": "stream",
     "text": [
      "         country    area\n",
      "BR        Brazil   8.516\n",
      "RU        Russia  17.100\n",
      "IN         India   3.286\n",
      "CH         China   9.597\n",
      "SA  South Africa   1.221\n"
     ]
    }
   ],
   "source": [
    "# mengambil semua baris tetapi dengan kolom terpilih\n",
    "print(brics.iloc[:,[0,2]])"
   ]
  },
  {
   "cell_type": "code",
   "execution_count": null,
   "id": "099b1180",
   "metadata": {},
   "outputs": [],
   "source": []
  }
 ],
 "metadata": {
  "kernelspec": {
   "display_name": "Python 3 (ipykernel)",
   "language": "python",
   "name": "python3"
  },
  "language_info": {
   "codemirror_mode": {
    "name": "ipython",
    "version": 3
   },
   "file_extension": ".py",
   "mimetype": "text/x-python",
   "name": "python",
   "nbconvert_exporter": "python",
   "pygments_lexer": "ipython3",
   "version": "3.10.4"
  }
 },
 "nbformat": 4,
 "nbformat_minor": 5
}
