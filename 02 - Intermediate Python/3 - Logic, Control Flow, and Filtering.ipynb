{
 "cells": [
  {
   "cell_type": "markdown",
   "id": "495e41be",
   "metadata": {},
   "source": [
    "# NumPy"
   ]
  },
  {
   "cell_type": "code",
   "execution_count": 3,
   "id": "1a92c16f",
   "metadata": {},
   "outputs": [
    {
     "name": "stdout",
     "output_type": "stream",
     "text": [
      "[21.85171573 20.97505669 21.75028214 24.7473475  21.44127836]\n",
      "\n",
      "\n",
      "bmi > 23: [False False False  True False]\n",
      "\n",
      "\n",
      "bmi that bmi > 23: [24.7473475]\n"
     ]
    }
   ],
   "source": [
    "import numpy as np\n",
    "\n",
    "np_height = np.array([1.73,1.68,1.71,1.89,1.79])\n",
    "np_weight = np.array([65.4,59.2,63.6,88.4,68.7])\n",
    "\n",
    "bmi = np_weight / np_height ** 2\n",
    "\n",
    "print(bmi)\n",
    "print(\"\\n\")\n",
    "print(f\"bmi > 23: {bmi > 23}\")\n",
    "print(\"\\n\")\n",
    "print(f\"bmi that bmi > 23: {bmi[bmi > 23]}\")"
   ]
  },
  {
   "cell_type": "markdown",
   "id": "9d6ade35",
   "metadata": {},
   "source": [
    "# Comparison\n",
    "\n",
    "Comparison Operator: >, <, >=, <=, ==, !="
   ]
  },
  {
   "cell_type": "code",
   "execution_count": 4,
   "id": "a158ad1d",
   "metadata": {},
   "outputs": [
    {
     "name": "stdout",
     "output_type": "stream",
     "text": [
      "True\n"
     ]
    }
   ],
   "source": [
    "# camparison\n",
    "print(\"carl\" < \"chris\")"
   ]
  },
  {
   "cell_type": "markdown",
   "id": "6f6e7b32",
   "metadata": {},
   "source": [
    "# Logic\n",
    "Logic Operator:\n",
    "- and -> Jika keduanya True, maka True\n",
    "- or -> Jika salah satunya True, maka True\n",
    "- not -> Kebalikan dari nilainya"
   ]
  },
  {
   "cell_type": "code",
   "execution_count": 13,
   "id": "d2aa01e6",
   "metadata": {},
   "outputs": [
    {
     "name": "stdout",
     "output_type": "stream",
     "text": [
      "Masukkan angka: 13\n",
      "x < 3 atau 5 < x < 9 atau x > 13: False\n"
     ]
    }
   ],
   "source": [
    "# +++3---5+++9---13+++\n",
    "x = int(input(\"Masukkan angka: \"))\n",
    "\n",
    "a = x < 3\n",
    "\n",
    "q = x > 5\n",
    "r = x < 9\n",
    "b = q and r\n",
    "\n",
    "c = x > 13\n",
    "\n",
    "z1 = a or b\n",
    "z2 = z1 or c\n",
    "\n",
    "\n",
    "print(f\"x < 3 atau 5 < x < 9 atau x > 13: {z2}\")"
   ]
  },
  {
   "cell_type": "markdown",
   "id": "9afec27e",
   "metadata": {},
   "source": [
    "# NumPy Logical\n",
    "NumPy Logical berfungsi untuk melakukan operasi logika terhadap array\n",
    "- np.logical_and()\n",
    "- np.logical_or()\n",
    "- np.logical_not()"
   ]
  },
  {
   "cell_type": "code",
   "execution_count": 18,
   "id": "8e847954",
   "metadata": {},
   "outputs": [
    {
     "name": "stdout",
     "output_type": "stream",
     "text": [
      "[21.85171573 20.97505669 21.75028214 24.7473475  21.44127836]\n",
      "\n",
      "\n",
      "21 < bmi < 23: [ True False  True False  True]\n",
      "\n",
      "\n",
      "bmi that 21 < bmi < 23: [21.85171573 21.75028214 21.44127836]\n"
     ]
    }
   ],
   "source": [
    "# contoh numpy logical\n",
    "print(bmi)\n",
    "print(\"\\n\")\n",
    "print(\"21 < bmi < 23:\",np.logical_and(bmi>21, bmi<23))\n",
    "print(\"\\n\")\n",
    "print(\"bmi that 21 < bmi < 23:\",bmi[np.logical_and(bmi>21, bmi<23)])"
   ]
  },
  {
   "cell_type": "markdown",
   "id": "21f5a4a4",
   "metadata": {},
   "source": [
    "# If"
   ]
  },
  {
   "cell_type": "code",
   "execution_count": 19,
   "id": "c44d0218",
   "metadata": {},
   "outputs": [
    {
     "name": "stdout",
     "output_type": "stream",
     "text": [
      "2 is even\n"
     ]
    }
   ],
   "source": [
    "z = 2\n",
    "if z%2 == 0:\n",
    "    print(z,\"is even\")"
   ]
  },
  {
   "cell_type": "markdown",
   "id": "48466c7a",
   "metadata": {},
   "source": [
    "# Else"
   ]
  },
  {
   "cell_type": "code",
   "execution_count": 20,
   "id": "0440b648",
   "metadata": {},
   "outputs": [
    {
     "name": "stdout",
     "output_type": "stream",
     "text": [
      "5 is odd\n"
     ]
    }
   ],
   "source": [
    "z = 5\n",
    "if z%2 == 0:\n",
    "    print(z,\"is even\")\n",
    "else:\n",
    "    print(z,\"is odd\")"
   ]
  },
  {
   "cell_type": "markdown",
   "id": "c7c3ea4f",
   "metadata": {},
   "source": [
    "# Elif"
   ]
  },
  {
   "cell_type": "code",
   "execution_count": 21,
   "id": "1a900d54",
   "metadata": {},
   "outputs": [
    {
     "name": "stdout",
     "output_type": "stream",
     "text": [
      "3 is divisible by 3\n"
     ]
    }
   ],
   "source": [
    "z = 3\n",
    "if z%2 == 0:\n",
    "    print(z,\"is divisible by 2\")\n",
    "elif z%3 == 0:\n",
    "    print(z,\"is divisible by 3\")\n",
    "else:\n",
    "    print(z,\"is neither divisible by 2 nor by 3\")"
   ]
  },
  {
   "cell_type": "markdown",
   "id": "0f30fe5b",
   "metadata": {},
   "source": [
    "# Filtering DataFrame\n",
    "Karena pandas library dibangun di atas numpy, maka kita bisa menggunakan numpy logical"
   ]
  },
  {
   "cell_type": "code",
   "execution_count": 26,
   "id": "1dc89a92",
   "metadata": {},
   "outputs": [
    {
     "data": {
      "text/html": [
       "<div>\n",
       "<style scoped>\n",
       "    .dataframe tbody tr th:only-of-type {\n",
       "        vertical-align: middle;\n",
       "    }\n",
       "\n",
       "    .dataframe tbody tr th {\n",
       "        vertical-align: top;\n",
       "    }\n",
       "\n",
       "    .dataframe thead th {\n",
       "        text-align: right;\n",
       "    }\n",
       "</style>\n",
       "<table border=\"1\" class=\"dataframe\">\n",
       "  <thead>\n",
       "    <tr style=\"text-align: right;\">\n",
       "      <th></th>\n",
       "      <th>country</th>\n",
       "      <th>capital</th>\n",
       "      <th>area</th>\n",
       "      <th>population</th>\n",
       "    </tr>\n",
       "  </thead>\n",
       "  <tbody>\n",
       "    <tr>\n",
       "      <th>BR</th>\n",
       "      <td>Brazil</td>\n",
       "      <td>Brasilia</td>\n",
       "      <td>8.516</td>\n",
       "      <td>200.40</td>\n",
       "    </tr>\n",
       "    <tr>\n",
       "      <th>RU</th>\n",
       "      <td>Russia</td>\n",
       "      <td>Moscow</td>\n",
       "      <td>17.100</td>\n",
       "      <td>143.50</td>\n",
       "    </tr>\n",
       "    <tr>\n",
       "      <th>IN</th>\n",
       "      <td>India</td>\n",
       "      <td>New Delhi</td>\n",
       "      <td>3.286</td>\n",
       "      <td>1252.00</td>\n",
       "    </tr>\n",
       "    <tr>\n",
       "      <th>CH</th>\n",
       "      <td>China</td>\n",
       "      <td>Beijing</td>\n",
       "      <td>9.597</td>\n",
       "      <td>1357.00</td>\n",
       "    </tr>\n",
       "    <tr>\n",
       "      <th>SA</th>\n",
       "      <td>South Africa</td>\n",
       "      <td>Pretoria</td>\n",
       "      <td>1.221</td>\n",
       "      <td>52.98</td>\n",
       "    </tr>\n",
       "  </tbody>\n",
       "</table>\n",
       "</div>"
      ],
      "text/plain": [
       "         country    capital    area  population\n",
       "BR        Brazil   Brasilia   8.516      200.40\n",
       "RU        Russia     Moscow  17.100      143.50\n",
       "IN         India  New Delhi   3.286     1252.00\n",
       "CH         China    Beijing   9.597     1357.00\n",
       "SA  South Africa   Pretoria   1.221       52.98"
      ]
     },
     "metadata": {},
     "output_type": "display_data"
    },
    {
     "name": "stdout",
     "output_type": "stream",
     "text": [
      "\n",
      "Data dengan area lebih besar dari 8\n"
     ]
    },
    {
     "data": {
      "text/html": [
       "<div>\n",
       "<style scoped>\n",
       "    .dataframe tbody tr th:only-of-type {\n",
       "        vertical-align: middle;\n",
       "    }\n",
       "\n",
       "    .dataframe tbody tr th {\n",
       "        vertical-align: top;\n",
       "    }\n",
       "\n",
       "    .dataframe thead th {\n",
       "        text-align: right;\n",
       "    }\n",
       "</style>\n",
       "<table border=\"1\" class=\"dataframe\">\n",
       "  <thead>\n",
       "    <tr style=\"text-align: right;\">\n",
       "      <th></th>\n",
       "      <th>country</th>\n",
       "      <th>capital</th>\n",
       "      <th>area</th>\n",
       "      <th>population</th>\n",
       "    </tr>\n",
       "  </thead>\n",
       "  <tbody>\n",
       "    <tr>\n",
       "      <th>BR</th>\n",
       "      <td>Brazil</td>\n",
       "      <td>Brasilia</td>\n",
       "      <td>8.516</td>\n",
       "      <td>200.4</td>\n",
       "    </tr>\n",
       "    <tr>\n",
       "      <th>RU</th>\n",
       "      <td>Russia</td>\n",
       "      <td>Moscow</td>\n",
       "      <td>17.100</td>\n",
       "      <td>143.5</td>\n",
       "    </tr>\n",
       "    <tr>\n",
       "      <th>CH</th>\n",
       "      <td>China</td>\n",
       "      <td>Beijing</td>\n",
       "      <td>9.597</td>\n",
       "      <td>1357.0</td>\n",
       "    </tr>\n",
       "  </tbody>\n",
       "</table>\n",
       "</div>"
      ],
      "text/plain": [
       "   country   capital    area  population\n",
       "BR  Brazil  Brasilia   8.516       200.4\n",
       "RU  Russia    Moscow  17.100       143.5\n",
       "CH   China   Beijing   9.597      1357.0"
      ]
     },
     "metadata": {},
     "output_type": "display_data"
    },
    {
     "name": "stdout",
     "output_type": "stream",
     "text": [
      "\n",
      "Data dengan area lebih besar dari 8 dan kurang dari 10\n"
     ]
    },
    {
     "data": {
      "text/html": [
       "<div>\n",
       "<style scoped>\n",
       "    .dataframe tbody tr th:only-of-type {\n",
       "        vertical-align: middle;\n",
       "    }\n",
       "\n",
       "    .dataframe tbody tr th {\n",
       "        vertical-align: top;\n",
       "    }\n",
       "\n",
       "    .dataframe thead th {\n",
       "        text-align: right;\n",
       "    }\n",
       "</style>\n",
       "<table border=\"1\" class=\"dataframe\">\n",
       "  <thead>\n",
       "    <tr style=\"text-align: right;\">\n",
       "      <th></th>\n",
       "      <th>country</th>\n",
       "      <th>capital</th>\n",
       "      <th>area</th>\n",
       "      <th>population</th>\n",
       "    </tr>\n",
       "  </thead>\n",
       "  <tbody>\n",
       "    <tr>\n",
       "      <th>BR</th>\n",
       "      <td>Brazil</td>\n",
       "      <td>Brasilia</td>\n",
       "      <td>8.516</td>\n",
       "      <td>200.4</td>\n",
       "    </tr>\n",
       "    <tr>\n",
       "      <th>CH</th>\n",
       "      <td>China</td>\n",
       "      <td>Beijing</td>\n",
       "      <td>9.597</td>\n",
       "      <td>1357.0</td>\n",
       "    </tr>\n",
       "  </tbody>\n",
       "</table>\n",
       "</div>"
      ],
      "text/plain": [
       "   country   capital   area  population\n",
       "BR  Brazil  Brasilia  8.516       200.4\n",
       "CH   China   Beijing  9.597      1357.0"
      ]
     },
     "metadata": {},
     "output_type": "display_data"
    }
   ],
   "source": [
    "import pandas as pd\n",
    "\n",
    "brics = pd.read_csv(\"datasets/brics.csv\",index_col=0) # index_col=0 berfungsi agar kolom pertamanya menjadi row label\n",
    "\n",
    "display(brics)\n",
    "\n",
    "print(\"\\nData dengan area lebih besar dari 8\")\n",
    "is_huge = brics.loc[:,\"area\"] > 8\n",
    "display(brics[is_huge])\n",
    "\n",
    "print(\"\\nData dengan area lebih besar dari 8 dan kurang dari 10\")\n",
    "display(brics[np.logical_and(brics[\"area\"]>8, brics[\"area\"]<10)])"
   ]
  },
  {
   "cell_type": "code",
   "execution_count": null,
   "id": "9ae3c0f9",
   "metadata": {},
   "outputs": [],
   "source": []
  }
 ],
 "metadata": {
  "kernelspec": {
   "display_name": "Python 3 (ipykernel)",
   "language": "python",
   "name": "python3"
  },
  "language_info": {
   "codemirror_mode": {
    "name": "ipython",
    "version": 3
   },
   "file_extension": ".py",
   "mimetype": "text/x-python",
   "name": "python",
   "nbconvert_exporter": "python",
   "pygments_lexer": "ipython3",
   "version": "3.10.4"
  }
 },
 "nbformat": 4,
 "nbformat_minor": 5
}
